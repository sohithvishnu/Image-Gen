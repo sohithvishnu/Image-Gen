import torch
print(torch.backends.mps.is_available())


import torch
import torch.nn as nn
import torch.optim as optim
from torch.utils.data import DataLoader, Dataset
import numpy as np
from PIL import Image
import os

# Check if MPS is available
device = torch.device("mps" if torch.backends.mps.is_available() else "cpu")

# Custom Dataset Class for Loading Images
class ImageDataset(Dataset):
    def __init__(self, dataset_path, image_size=(128, 128)):
        self.dataset_path = dataset_path
        self.image_size = image_size
        self.images = []
        
        # Load all images
        for filename in sorted(os.listdir(dataset_path)):
            if filename.endswith(".jpg") or filename.endswith(".png"):
                img = Image.open(os.path.join(dataset_path, filename)).resize(image_size)
                img = np.array(img).astype(np.float32) / 255.0
                self.images.append(img)
        
        self.images = torch.tensor(np.transpose(self.images, (0, 3, 1, 2)))  # N, C, H, W

    def __len__(self):
        return len(self.images)

    def __getitem__(self, idx):
        return self.images[idx]

# Load the dataset
dataset_path = "dataset/"  # Adjust this to your dataset path
dataset = ImageDataset(dataset_path)
data_loader = DataLoader(dataset, batch_size=2, shuffle=True)

# Define Autoencoder Model
class Autoencoder(nn.Module):
    def __init__(self, latent_dim=64):
        super(Autoencoder, self).__init__()
        self.encoder = nn.Sequential(
            nn.Conv2d(3, 32, 3, stride=2, padding=1), nn.ReLU(),
            nn.Conv2d(32, 64, 3, stride=2, padding=1), nn.ReLU(),
            nn.Conv2d(64, 128, 3, stride=2, padding=1), nn.ReLU(),
        )
        self.fc1 = nn.Linear(128 * 16 * 16, latent_dim)  # 16x16 comes from downsampling

        self.fc2 = nn.Linear(latent_dim, 128 * 16 * 16)
        self.decoder = nn.Sequential(
            nn.ConvTranspose2d(128, 64, 3, stride=2, padding=1, output_padding=1), nn.ReLU(),
            nn.ConvTranspose2d(64, 32, 3, stride=2, padding=1, output_padding=1), nn.ReLU(),
            nn.ConvTranspose2d(32, 3, 3, stride=2, padding=1, output_padding=1), nn.Sigmoid()
        )

    def forward(self, x):
        x = self.encoder(x)
        x = x.view(x.size(0), -1)  # Flatten
        x = self.fc1(x)  # Latent space
        x = self.fc2(x)  # Expand back
        x = x.view(x.size(0), 128, 16, 16)  # Reshape for decoder
        return self.decoder(x)

# Initialize the model and move it to the device (MPS or CPU)
model = Autoencoder().to(device)



# Define the optimizer and loss function
optimizer = optim.Adam(model.parameters(), lr=0.001)
loss_fn = nn.MSELoss()

# Training loop (overfitting to the data)
num_epochs = 1000

for epoch in range(num_epochs):
    model.train()
    running_loss = 0.0
    for images in data_loader:
        images = images.to(device)  # Move images to MPS/CPU

        # Zero the gradients
        optimizer.zero_grad()

        # Forward pass
        outputs = model(images)

        # Compute loss
        loss = loss_fn(outputs, images)

        # Backward pass and optimization
        loss.backward()
        optimizer.step()

        running_loss += loss.item()

    # Print the loss every 100 epochs
    if (epoch + 1) % 100 == 0:
        print(f"Epoch [{epoch + 1}/{num_epochs}], Loss: {running_loss/len(data_loader):.4f}")




# Function to generate an image
def generate_image(model, idx):
    model.eval()
    with torch.no_grad():
        img = dataset[idx].unsqueeze(0).to(device)  # Get image and move to device
        output = model(img)
        output = output.squeeze(0).cpu().numpy().transpose(1, 2, 0) * 255
        output = np.clip(output, 0, 255).astype(np.uint8)
        Image.fromarray(output).show()

generate_image(model, 1)  # Test with the first image in the dataset



# Save the trained model
torch.save(model.state_dict(), 'autoencoder_model.pth')
print("Model saved successfully!")


# Load the model (after training or in a new session)
model = Autoencoder().to(device)
model.load_state_dict(torch.load('autoencoder_model.pth'))
model.eval()  # Set the model to evaluation mode
print("Model loaded successfully!")


# Function to generate an image from a saved model
def generate_image(model, idx):
    with torch.no_grad():
        img = dataset[idx].unsqueeze(0).to(device)  # Get the image and move it to device
        output = model(img)
        output = output.squeeze(0).cpu().numpy().transpose(1, 2, 0) * 255
        output = np.clip(output, 0, 255).astype(np.uint8)
        Image.fromarray(output).show()

# Generate an image using the loaded model
generate_image(model, 0)  # Generate an image from the first example in the dataset




