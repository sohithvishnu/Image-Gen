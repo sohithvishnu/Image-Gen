{
  "cells": [
    {
      "cell_type": "code",
      "execution_count": 1,
      "metadata": {
        "id": "adaqlwCzUVp4"
      },
      "outputs": [],
      "source": [
        "# prerequisites\n",
        "import torch\n",
        "import torch.nn as nn\n",
        "import torch.nn.functional as F\n",
        "import torch.optim as optim\n",
        "from torchvision import datasets, transforms\n",
        "from torch.autograd import Variable\n",
        "from torchvision.utils import save_image\n",
        "\n",
        "# Device configuration\n",
        "device = torch.device('cuda' if torch.cuda.is_available() else 'cpu')"
      ]
    },
    {
      "cell_type": "code",
      "execution_count": 2,
      "metadata": {
        "id": "n6w4QoDfKXQZ",
        "colab": {
          "base_uri": "https://localhost:8080/"
        },
        "outputId": "bafe519a-17a6-42b3-ff7e-0104031854a6"
      },
      "outputs": [
        {
          "output_type": "stream",
          "name": "stderr",
          "text": [
            "100%|██████████| 9.91M/9.91M [00:00<00:00, 17.9MB/s]\n",
            "100%|██████████| 28.9k/28.9k [00:00<00:00, 480kB/s]\n",
            "100%|██████████| 1.65M/1.65M [00:00<00:00, 4.47MB/s]\n",
            "100%|██████████| 4.54k/4.54k [00:00<00:00, 5.72MB/s]\n"
          ]
        }
      ],
      "source": [
        "bs = 100\n",
        "\n",
        "# MNIST Dataset\n",
        "transform = transforms.Compose([\n",
        "    transforms.ToTensor(),\n",
        "    transforms.Normalize(mean=(0.5,), std=(0.5,))])\n",
        "\n",
        "train_dataset = datasets.MNIST(root='./mnist_data/', train=True, transform=transform, download=True)\n",
        "test_dataset = datasets.MNIST(root='./mnist_data/', train=False, transform=transform, download=False)\n",
        "\n",
        "# Data Loader (Input Pipeline)\n",
        "train_loader = torch.utils.data.DataLoader(dataset=train_dataset, batch_size=bs, shuffle=True)\n",
        "test_loader = torch.utils.data.DataLoader(dataset=test_dataset, batch_size=bs, shuffle=False)"
      ]
    },
    {
      "cell_type": "code",
      "execution_count": 3,
      "metadata": {
        "id": "1MbrOKuuKZkT"
      },
      "outputs": [],
      "source": [
        "import torch\n",
        "import torch.nn as nn\n",
        "\n",
        "class ConditionalGenerator(nn.Module):\n",
        "    def __init__(self, z_dim, num_classes, img_channels=1):\n",
        "        super().__init__()\n",
        "        self.label_emb = nn.Embedding(num_classes, num_classes)\n",
        "\n",
        "        self.net = nn.Sequential(\n",
        "            nn.ConvTranspose2d(z_dim + num_classes, 128, kernel_size=7, stride=1, padding=0),  # 7x7\n",
        "            nn.BatchNorm2d(128),\n",
        "            nn.ReLU(True),\n",
        "\n",
        "            nn.ConvTranspose2d(128, 64, kernel_size=4, stride=2, padding=1),  # 14x14\n",
        "            nn.BatchNorm2d(64),\n",
        "            nn.ReLU(True),\n",
        "\n",
        "            nn.ConvTranspose2d(64, img_channels, kernel_size=4, stride=2, padding=1),  # 28x28\n",
        "            nn.Tanh()\n",
        "        )\n",
        "\n",
        "    def forward(self, z, labels):\n",
        "        label_embedding = self.label_emb(labels)\n",
        "        x = torch.cat([z, label_embedding], dim=1)\n",
        "        x = x.view(x.size(0), x.size(1), 1, 1)\n",
        "        return self.net(x)\n",
        "\n",
        "\n",
        "class ConditionalDiscriminator(nn.Module):\n",
        "    def __init__(self, num_classes, img_channels=1):\n",
        "        super().__init__()\n",
        "        self.label_emb = nn.Embedding(num_classes, num_classes)\n",
        "\n",
        "        self.net = nn.Sequential(\n",
        "            nn.Conv2d(img_channels + num_classes, 64, kernel_size=4, stride=2, padding=1),  # 14x14\n",
        "            nn.LeakyReLU(0.2, inplace=True),\n",
        "\n",
        "            nn.Conv2d(64, 128, kernel_size=4, stride=2, padding=1),  # 7x7\n",
        "            nn.BatchNorm2d(128),\n",
        "            nn.LeakyReLU(0.2, inplace=True),\n",
        "\n",
        "            nn.Flatten(),\n",
        "            nn.Linear(128 * 7 * 7, 1),\n",
        "            nn.Sigmoid()\n",
        "        )\n",
        "\n",
        "    def forward(self, x, labels):\n",
        "        label_embedding = self.label_emb(labels)  # [B, num_classes]\n",
        "        label_map = label_embedding.view(labels.size(0), -1, 1, 1)  # ✅ Correct!\n",
        "        label_map = label_map.expand(-1, -1, x.size(2), x.size(3))  # [B, num_classes, 28, 28]\n",
        "        x = torch.cat([x, label_map], dim=1)  # [B, 1+num_classes, 28, 28]\n",
        "        return self.net(x)\n",
        "\n"
      ]
    },
    {
      "cell_type": "code",
      "execution_count": 4,
      "metadata": {
        "id": "PBV41-TrKaPS"
      },
      "outputs": [],
      "source": [
        "z_dim = 100\n",
        "num_classes = 10\n",
        "\n",
        "G = ConditionalGenerator(z_dim=z_dim, num_classes=num_classes).to(device)\n",
        "D = ConditionalDiscriminator(num_classes=num_classes).to(device)"
      ]
    },
    {
      "cell_type": "code",
      "execution_count": 5,
      "metadata": {
        "colab": {
          "base_uri": "https://localhost:8080/"
        },
        "id": "0zO3ROanKlf3",
        "outputId": "367e0579-d841-458d-cdf3-dd6a2d963bb3"
      },
      "outputs": [
        {
          "output_type": "execute_result",
          "data": {
            "text/plain": [
              "ConditionalGenerator(\n",
              "  (label_emb): Embedding(10, 10)\n",
              "  (net): Sequential(\n",
              "    (0): ConvTranspose2d(110, 128, kernel_size=(7, 7), stride=(1, 1))\n",
              "    (1): BatchNorm2d(128, eps=1e-05, momentum=0.1, affine=True, track_running_stats=True)\n",
              "    (2): ReLU(inplace=True)\n",
              "    (3): ConvTranspose2d(128, 64, kernel_size=(4, 4), stride=(2, 2), padding=(1, 1))\n",
              "    (4): BatchNorm2d(64, eps=1e-05, momentum=0.1, affine=True, track_running_stats=True)\n",
              "    (5): ReLU(inplace=True)\n",
              "    (6): ConvTranspose2d(64, 1, kernel_size=(4, 4), stride=(2, 2), padding=(1, 1))\n",
              "    (7): Tanh()\n",
              "  )\n",
              ")"
            ]
          },
          "metadata": {},
          "execution_count": 5
        }
      ],
      "source": [
        "G"
      ]
    },
    {
      "cell_type": "code",
      "execution_count": 6,
      "metadata": {
        "colab": {
          "base_uri": "https://localhost:8080/"
        },
        "id": "pm2SsDDJKmdJ",
        "outputId": "b67e11f3-7a0c-4040-9c03-9eebe4fd409b"
      },
      "outputs": [
        {
          "output_type": "execute_result",
          "data": {
            "text/plain": [
              "ConditionalDiscriminator(\n",
              "  (label_emb): Embedding(10, 10)\n",
              "  (net): Sequential(\n",
              "    (0): Conv2d(11, 64, kernel_size=(4, 4), stride=(2, 2), padding=(1, 1))\n",
              "    (1): LeakyReLU(negative_slope=0.2, inplace=True)\n",
              "    (2): Conv2d(64, 128, kernel_size=(4, 4), stride=(2, 2), padding=(1, 1))\n",
              "    (3): BatchNorm2d(128, eps=1e-05, momentum=0.1, affine=True, track_running_stats=True)\n",
              "    (4): LeakyReLU(negative_slope=0.2, inplace=True)\n",
              "    (5): Flatten(start_dim=1, end_dim=-1)\n",
              "    (6): Linear(in_features=6272, out_features=1, bias=True)\n",
              "    (7): Sigmoid()\n",
              "  )\n",
              ")"
            ]
          },
          "metadata": {},
          "execution_count": 6
        }
      ],
      "source": [
        "D"
      ]
    },
    {
      "cell_type": "code",
      "execution_count": 7,
      "metadata": {
        "id": "hIPWE7EIKfsS"
      },
      "outputs": [],
      "source": [
        "criterion = nn.BCELoss()\n",
        "lr = 0.0002\n",
        "\n",
        "G_optimizer = optim.Adam(G.parameters(), lr=lr, betas=(0.5, 0.999))\n",
        "D_optimizer = optim.Adam(D.parameters(), lr=lr, betas=(0.5, 0.999))"
      ]
    },
    {
      "cell_type": "code",
      "execution_count": 8,
      "metadata": {
        "id": "Mycy__aSKoIo"
      },
      "outputs": [],
      "source": [
        "def D_train(real_images, real_labels):\n",
        "    D.zero_grad()\n",
        "\n",
        "    bs = real_images.size(0)\n",
        "\n",
        "    # === Train on real images ===\n",
        "    y_real = torch.ones(bs, 1).to(device)\n",
        "    real_images = real_images.to(device)\n",
        "    real_labels = real_labels.to(device)\n",
        "\n",
        "    D_output_real = D(real_images, real_labels)\n",
        "    D_real_loss = criterion(D_output_real, y_real)\n",
        "\n",
        "    # === Train on fake images ===\n",
        "    z = torch.randn(bs, z_dim).to(device)\n",
        "    fake_images = G(z, real_labels)  # condition on same labels\n",
        "\n",
        "    y_fake = torch.zeros(bs, 1).to(device)\n",
        "    D_output_fake = D(fake_images.detach(), real_labels)\n",
        "    D_fake_loss = criterion(D_output_fake, y_fake)\n",
        "\n",
        "    D_loss = D_real_loss + D_fake_loss\n",
        "    D_loss.backward()\n",
        "    D_optimizer.step()\n",
        "\n",
        "    return D_loss.item()"
      ]
    },
    {
      "cell_type": "code",
      "execution_count": 9,
      "metadata": {
        "id": "dj1pc-O0Kpyh"
      },
      "outputs": [],
      "source": [
        "def G_train(labels):\n",
        "    G.zero_grad()\n",
        "\n",
        "    bs = labels.size(0)\n",
        "    z = torch.randn(bs, z_dim).to(device)\n",
        "    labels = labels.to(device)\n",
        "\n",
        "    y_real = torch.ones(bs, 1).to(device)  # generator wants D to think fake is real\n",
        "    fake_images = G(z, labels)\n",
        "    D_output = D(fake_images, labels)\n",
        "\n",
        "    G_loss = criterion(D_output, y_real)\n",
        "    G_loss.backward()\n",
        "    G_optimizer.step()\n",
        "\n",
        "    return G_loss.item()\n"
      ]
    },
    {
      "cell_type": "code",
      "execution_count": 12,
      "metadata": {
        "colab": {
          "base_uri": "https://localhost:8080/",
          "height": 735
        },
        "id": "p8b6pg94KrfD",
        "outputId": "dc59edcf-7f07-473b-f66b-8cceedcbb3cc"
      },
      "outputs": [
        {
          "output_type": "stream",
          "name": "stdout",
          "text": [
            "[1/20]: loss_d: 1.324, loss_g: 0.802\n",
            "Saved samples for epoch 1 to /content/samples/generated_epoch_1.png\n",
            "[2/20]: loss_d: 1.353, loss_g: 0.773\n",
            "Saved samples for epoch 2 to /content/samples/generated_epoch_2.png\n",
            "[3/20]: loss_d: 1.363, loss_g: 0.764\n",
            "Saved samples for epoch 3 to /content/samples/generated_epoch_3.png\n",
            "[4/20]: loss_d: 1.366, loss_g: 0.757\n",
            "Saved samples for epoch 4 to /content/samples/generated_epoch_4.png\n",
            "[5/20]: loss_d: 1.363, loss_g: 0.755\n",
            "Saved samples for epoch 5 to /content/samples/generated_epoch_5.png\n",
            "[6/20]: loss_d: 1.362, loss_g: 0.760\n",
            "Saved samples for epoch 6 to /content/samples/generated_epoch_6.png\n",
            "[7/20]: loss_d: 1.357, loss_g: 0.763\n",
            "Saved samples for epoch 7 to /content/samples/generated_epoch_7.png\n",
            "[8/20]: loss_d: 1.352, loss_g: 0.765\n",
            "Saved samples for epoch 8 to /content/samples/generated_epoch_8.png\n",
            "[9/20]: loss_d: 1.344, loss_g: 0.772\n",
            "Saved samples for epoch 9 to /content/samples/generated_epoch_9.png\n",
            "[10/20]: loss_d: 1.339, loss_g: 0.778\n",
            "Saved samples for epoch 10 to /content/samples/generated_epoch_10.png\n",
            "[11/20]: loss_d: 1.332, loss_g: 0.785\n",
            "Saved samples for epoch 11 to /content/samples/generated_epoch_11.png\n",
            "[12/20]: loss_d: 1.323, loss_g: 0.793\n",
            "Saved samples for epoch 12 to /content/samples/generated_epoch_12.png\n",
            "[13/20]: loss_d: 1.314, loss_g: 0.806\n",
            "Saved samples for epoch 13 to /content/samples/generated_epoch_13.png\n",
            "[14/20]: loss_d: 1.306, loss_g: 0.811\n",
            "Saved samples for epoch 14 to /content/samples/generated_epoch_14.png\n",
            "[15/20]: loss_d: 1.293, loss_g: 0.825\n",
            "Saved samples for epoch 15 to /content/samples/generated_epoch_15.png\n",
            "[16/20]: loss_d: 1.285, loss_g: 0.832\n",
            "Saved samples for epoch 16 to /content/samples/generated_epoch_16.png\n",
            "[17/20]: loss_d: 1.277, loss_g: 0.841\n",
            "Saved samples for epoch 17 to /content/samples/generated_epoch_17.png\n",
            "[18/20]: loss_d: 1.268, loss_g: 0.853\n",
            "Saved samples for epoch 18 to /content/samples/generated_epoch_18.png\n",
            "[19/20]: loss_d: 1.259, loss_g: 0.867\n",
            "Saved samples for epoch 19 to /content/samples/generated_epoch_19.png\n",
            "[20/20]: loss_d: 1.253, loss_g: 0.875\n",
            "Saved samples for epoch 20 to /content/samples/generated_epoch_20.png\n"
          ]
        },
        {
          "output_type": "display_data",
          "data": {
            "text/plain": [
              "<IPython.core.display.Javascript object>"
            ],
            "application/javascript": [
              "\n",
              "    async function download(id, filename, size) {\n",
              "      if (!google.colab.kernel.accessAllowed) {\n",
              "        return;\n",
              "      }\n",
              "      const div = document.createElement('div');\n",
              "      const label = document.createElement('label');\n",
              "      label.textContent = `Downloading \"${filename}\": `;\n",
              "      div.appendChild(label);\n",
              "      const progress = document.createElement('progress');\n",
              "      progress.max = size;\n",
              "      div.appendChild(progress);\n",
              "      document.body.appendChild(div);\n",
              "\n",
              "      const buffers = [];\n",
              "      let downloaded = 0;\n",
              "\n",
              "      const channel = await google.colab.kernel.comms.open(id);\n",
              "      // Send a message to notify the kernel that we're ready.\n",
              "      channel.send({})\n",
              "\n",
              "      for await (const message of channel.messages) {\n",
              "        // Send a message to notify the kernel that we're ready.\n",
              "        channel.send({})\n",
              "        if (message.buffers) {\n",
              "          for (const buffer of message.buffers) {\n",
              "            buffers.push(buffer);\n",
              "            downloaded += buffer.byteLength;\n",
              "            progress.value = downloaded;\n",
              "          }\n",
              "        }\n",
              "      }\n",
              "      const blob = new Blob(buffers, {type: 'application/binary'});\n",
              "      const a = document.createElement('a');\n",
              "      a.href = window.URL.createObjectURL(blob);\n",
              "      a.download = filename;\n",
              "      div.appendChild(a);\n",
              "      a.click();\n",
              "      div.remove();\n",
              "    }\n",
              "  "
            ]
          },
          "metadata": {}
        },
        {
          "output_type": "display_data",
          "data": {
            "text/plain": [
              "<IPython.core.display.Javascript object>"
            ],
            "application/javascript": [
              "download(\"download_253c93e1-ff1a-4a1a-b45b-f5d2788ad0ca\", \"generated_digits.zip\", 108139)"
            ]
          },
          "metadata": {}
        }
      ],
      "source": [
        "import os\n",
        "import shutil\n",
        "from google.colab import files\n",
        "\n",
        "\n",
        "save_dir = \"/content/samples\"\n",
        "os.makedirs(save_dir, exist_ok=True)\n",
        "\n",
        "n_epoch = 20\n",
        "bs = 100\n",
        "sample_size = 10  # one digit from 0 to 9\n",
        "\n",
        "for epoch in range(1, n_epoch + 1):\n",
        "    G.train()\n",
        "    D.train()\n",
        "    D_losses, G_losses = [], []\n",
        "\n",
        "    for batch_idx, (real_images, real_labels) in enumerate(train_loader):\n",
        "        d_loss = D_train(real_images, real_labels)\n",
        "        g_loss = G_train(real_labels)\n",
        "        D_losses.append(d_loss)\n",
        "        G_losses.append(g_loss)\n",
        "\n",
        "    avg_d_loss = torch.mean(torch.FloatTensor(D_losses))\n",
        "    avg_g_loss = torch.mean(torch.FloatTensor(G_losses))\n",
        "    print(f\"[{epoch}/{n_epoch}]: loss_d: {avg_d_loss:.3f}, loss_g: {avg_g_loss:.3f}\")\n",
        "\n",
        "    # Save 1 sample per digit after each epoch\n",
        "    G.eval()\n",
        "    with torch.no_grad():\n",
        "        test_labels = torch.arange(0, 10).long().to(device)\n",
        "        test_z = torch.randn(10, z_dim).to(device)\n",
        "        generated = G(test_z, test_labels)\n",
        "\n",
        "        save_path = os.path.join(save_dir, f'generated_epoch_{epoch}.png')\n",
        "        save_image(generated, save_path, nrow=10, normalize=True)\n",
        "        print(f\"Saved samples for epoch {epoch} to {save_path}\")\n",
        "\n",
        "# Zip the folder of images\n",
        "zip_path = \"/content/generated_digits\"\n",
        "shutil.make_archive(zip_path, 'zip', save_dir)\n",
        "\n",
        "# Download to your computer\n",
        "files.download(zip_path + \".zip\")"
      ]
    },
    {
      "cell_type": "code",
      "execution_count": 25,
      "metadata": {
        "id": "G58P4D3-Nd1g",
        "colab": {
          "base_uri": "https://localhost:8080/",
          "height": 197
        },
        "outputId": "7a7661fa-41dc-4fc4-ae1a-cb5cbadbcd8d"
      },
      "outputs": [
        {
          "output_type": "stream",
          "name": "stdout",
          "text": [
            "Saved digit 0 to /content/digits/digit_0.png\n",
            "Saved digit 1 to /content/digits/digit_1.png\n",
            "Saved digit 2 to /content/digits/digit_2.png\n",
            "Saved digit 3 to /content/digits/digit_3.png\n",
            "Saved digit 4 to /content/digits/digit_4.png\n",
            "Saved digit 5 to /content/digits/digit_5.png\n",
            "Saved digit 6 to /content/digits/digit_6.png\n",
            "Saved digit 7 to /content/digits/digit_7.png\n",
            "Saved digit 8 to /content/digits/digit_8.png\n",
            "Saved digit 9 to /content/digits/digit_9.png\n"
          ]
        },
        {
          "output_type": "display_data",
          "data": {
            "text/plain": [
              "<IPython.core.display.Javascript object>"
            ],
            "application/javascript": [
              "\n",
              "    async function download(id, filename, size) {\n",
              "      if (!google.colab.kernel.accessAllowed) {\n",
              "        return;\n",
              "      }\n",
              "      const div = document.createElement('div');\n",
              "      const label = document.createElement('label');\n",
              "      label.textContent = `Downloading \"${filename}\": `;\n",
              "      div.appendChild(label);\n",
              "      const progress = document.createElement('progress');\n",
              "      progress.max = size;\n",
              "      div.appendChild(progress);\n",
              "      document.body.appendChild(div);\n",
              "\n",
              "      const buffers = [];\n",
              "      let downloaded = 0;\n",
              "\n",
              "      const channel = await google.colab.kernel.comms.open(id);\n",
              "      // Send a message to notify the kernel that we're ready.\n",
              "      channel.send({})\n",
              "\n",
              "      for await (const message of channel.messages) {\n",
              "        // Send a message to notify the kernel that we're ready.\n",
              "        channel.send({})\n",
              "        if (message.buffers) {\n",
              "          for (const buffer of message.buffers) {\n",
              "            buffers.push(buffer);\n",
              "            downloaded += buffer.byteLength;\n",
              "            progress.value = downloaded;\n",
              "          }\n",
              "        }\n",
              "      }\n",
              "      const blob = new Blob(buffers, {type: 'application/binary'});\n",
              "      const a = document.createElement('a');\n",
              "      a.href = window.URL.createObjectURL(blob);\n",
              "      a.download = filename;\n",
              "      div.appendChild(a);\n",
              "      a.click();\n",
              "      div.remove();\n",
              "    }\n",
              "  "
            ]
          },
          "metadata": {}
        },
        {
          "output_type": "display_data",
          "data": {
            "text/plain": [
              "<IPython.core.display.Javascript object>"
            ],
            "application/javascript": [
              "download(\"download_aca0bd53-8b20-4ed3-a0d2-1bf921e9ac53\", \"digit_images.zip\", 7732)"
            ]
          },
          "metadata": {}
        }
      ],
      "source": [
        "# Folder to save individual digit images\n",
        "digit_save_dir = \"/content/digits\"\n",
        "os.makedirs(digit_save_dir, exist_ok=True)\n",
        "\n",
        "# Generate one image for each digit (0–9)\n",
        "G.eval()\n",
        "with torch.no_grad():\n",
        "    for digit in range(10):\n",
        "        z = torch.randn(1, z_dim).to(device)\n",
        "        label = torch.tensor([digit]).to(device)\n",
        "        generated = G(z, label)\n",
        "\n",
        "        # Save each image individually\n",
        "        save_path = os.path.join(digit_save_dir, f'digit_{digit}.png')\n",
        "        save_image(generated, save_path, normalize=True)\n",
        "        print(f\"Saved digit {digit} to {save_path}\")\n",
        "\n",
        "# Zip the folder containing all digit images\n",
        "zip_path = \"/content/digit_images\"\n",
        "shutil.make_archive(zip_path, 'zip', digit_save_dir)\n",
        "\n",
        "# Download the zip file\n",
        "files.download(zip_path + \".zip\")"
      ]
    },
    {
      "cell_type": "code",
      "execution_count": 13,
      "metadata": {
        "colab": {
          "base_uri": "https://localhost:8080/",
          "height": 17
        },
        "id": "qY0PE06KOIUz",
        "outputId": "8ae4fcd2-96db-404c-a65a-2b09ac494510"
      },
      "outputs": [
        {
          "output_type": "display_data",
          "data": {
            "text/plain": [
              "<IPython.core.display.Javascript object>"
            ],
            "application/javascript": [
              "\n",
              "    async function download(id, filename, size) {\n",
              "      if (!google.colab.kernel.accessAllowed) {\n",
              "        return;\n",
              "      }\n",
              "      const div = document.createElement('div');\n",
              "      const label = document.createElement('label');\n",
              "      label.textContent = `Downloading \"${filename}\": `;\n",
              "      div.appendChild(label);\n",
              "      const progress = document.createElement('progress');\n",
              "      progress.max = size;\n",
              "      div.appendChild(progress);\n",
              "      document.body.appendChild(div);\n",
              "\n",
              "      const buffers = [];\n",
              "      let downloaded = 0;\n",
              "\n",
              "      const channel = await google.colab.kernel.comms.open(id);\n",
              "      // Send a message to notify the kernel that we're ready.\n",
              "      channel.send({})\n",
              "\n",
              "      for await (const message of channel.messages) {\n",
              "        // Send a message to notify the kernel that we're ready.\n",
              "        channel.send({})\n",
              "        if (message.buffers) {\n",
              "          for (const buffer of message.buffers) {\n",
              "            buffers.push(buffer);\n",
              "            downloaded += buffer.byteLength;\n",
              "            progress.value = downloaded;\n",
              "          }\n",
              "        }\n",
              "      }\n",
              "      const blob = new Blob(buffers, {type: 'application/binary'});\n",
              "      const a = document.createElement('a');\n",
              "      a.href = window.URL.createObjectURL(blob);\n",
              "      a.download = filename;\n",
              "      div.appendChild(a);\n",
              "      a.click();\n",
              "      div.remove();\n",
              "    }\n",
              "  "
            ]
          },
          "metadata": {}
        },
        {
          "output_type": "display_data",
          "data": {
            "text/plain": [
              "<IPython.core.display.Javascript object>"
            ],
            "application/javascript": [
              "download(\"download_7f28478c-00fd-47b5-86e6-80767c6d80ce\", \"generated_epoch_20.png\", 5227)"
            ]
          },
          "metadata": {}
        }
      ],
      "source": [
        "from google.colab import files\n",
        "files.download(save_path)\n"
      ]
    },
    {
      "cell_type": "code",
      "source": [
        "# Save Generator\n",
        "torch.save(G.state_dict(), \"/content/generator.pth\")\n",
        "\n",
        "# Save Discriminator\n",
        "torch.save(D.state_dict(), \"/content/discriminator.pth\")"
      ],
      "metadata": {
        "id": "QIDwsvAXR6qd"
      },
      "execution_count": 15,
      "outputs": []
    },
    {
      "cell_type": "code",
      "source": [
        "# Download generator\n",
        "files.download(\"/content/generator.pth\")\n",
        "\n",
        "# Download discriminator\n",
        "files.download(\"/content/discriminator.pth\")"
      ],
      "metadata": {
        "colab": {
          "base_uri": "https://localhost:8080/",
          "height": 17
        },
        "id": "E0F_Zh0aSBfB",
        "outputId": "df1a580e-9627-4c85-b7f6-fe15144609d0"
      },
      "execution_count": 16,
      "outputs": [
        {
          "output_type": "display_data",
          "data": {
            "text/plain": [
              "<IPython.core.display.Javascript object>"
            ],
            "application/javascript": [
              "\n",
              "    async function download(id, filename, size) {\n",
              "      if (!google.colab.kernel.accessAllowed) {\n",
              "        return;\n",
              "      }\n",
              "      const div = document.createElement('div');\n",
              "      const label = document.createElement('label');\n",
              "      label.textContent = `Downloading \"${filename}\": `;\n",
              "      div.appendChild(label);\n",
              "      const progress = document.createElement('progress');\n",
              "      progress.max = size;\n",
              "      div.appendChild(progress);\n",
              "      document.body.appendChild(div);\n",
              "\n",
              "      const buffers = [];\n",
              "      let downloaded = 0;\n",
              "\n",
              "      const channel = await google.colab.kernel.comms.open(id);\n",
              "      // Send a message to notify the kernel that we're ready.\n",
              "      channel.send({})\n",
              "\n",
              "      for await (const message of channel.messages) {\n",
              "        // Send a message to notify the kernel that we're ready.\n",
              "        channel.send({})\n",
              "        if (message.buffers) {\n",
              "          for (const buffer of message.buffers) {\n",
              "            buffers.push(buffer);\n",
              "            downloaded += buffer.byteLength;\n",
              "            progress.value = downloaded;\n",
              "          }\n",
              "        }\n",
              "      }\n",
              "      const blob = new Blob(buffers, {type: 'application/binary'});\n",
              "      const a = document.createElement('a');\n",
              "      a.href = window.URL.createObjectURL(blob);\n",
              "      a.download = filename;\n",
              "      div.appendChild(a);\n",
              "      a.click();\n",
              "      div.remove();\n",
              "    }\n",
              "  "
            ]
          },
          "metadata": {}
        },
        {
          "output_type": "display_data",
          "data": {
            "text/plain": [
              "<IPython.core.display.Javascript object>"
            ],
            "application/javascript": [
              "download(\"download_237443ba-95aa-42d6-85a9-fcd14b752691\", \"generator.pth\", 3298189)"
            ]
          },
          "metadata": {}
        },
        {
          "output_type": "display_data",
          "data": {
            "text/plain": [
              "<IPython.core.display.Javascript object>"
            ],
            "application/javascript": [
              "\n",
              "    async function download(id, filename, size) {\n",
              "      if (!google.colab.kernel.accessAllowed) {\n",
              "        return;\n",
              "      }\n",
              "      const div = document.createElement('div');\n",
              "      const label = document.createElement('label');\n",
              "      label.textContent = `Downloading \"${filename}\": `;\n",
              "      div.appendChild(label);\n",
              "      const progress = document.createElement('progress');\n",
              "      progress.max = size;\n",
              "      div.appendChild(progress);\n",
              "      document.body.appendChild(div);\n",
              "\n",
              "      const buffers = [];\n",
              "      let downloaded = 0;\n",
              "\n",
              "      const channel = await google.colab.kernel.comms.open(id);\n",
              "      // Send a message to notify the kernel that we're ready.\n",
              "      channel.send({})\n",
              "\n",
              "      for await (const message of channel.messages) {\n",
              "        // Send a message to notify the kernel that we're ready.\n",
              "        channel.send({})\n",
              "        if (message.buffers) {\n",
              "          for (const buffer of message.buffers) {\n",
              "            buffers.push(buffer);\n",
              "            downloaded += buffer.byteLength;\n",
              "            progress.value = downloaded;\n",
              "          }\n",
              "        }\n",
              "      }\n",
              "      const blob = new Blob(buffers, {type: 'application/binary'});\n",
              "      const a = document.createElement('a');\n",
              "      a.href = window.URL.createObjectURL(blob);\n",
              "      a.download = filename;\n",
              "      div.appendChild(a);\n",
              "      a.click();\n",
              "      div.remove();\n",
              "    }\n",
              "  "
            ]
          },
          "metadata": {}
        },
        {
          "output_type": "display_data",
          "data": {
            "text/plain": [
              "<IPython.core.display.Javascript object>"
            ],
            "application/javascript": [
              "download(\"download_f8c41c0b-b32a-4f06-b55a-0ac6b99d1ec3\", \"discriminator.pth\", 602194)"
            ]
          },
          "metadata": {}
        }
      ]
    },
    {
      "cell_type": "code",
      "source": [
        "torch.save(G, \"/content/generator_full.pth\")"
      ],
      "metadata": {
        "id": "AS5_GmLLSPoY"
      },
      "execution_count": 17,
      "outputs": []
    },
    {
      "cell_type": "code",
      "source": [
        "files.download(\"/content/generator_full.pth\")"
      ],
      "metadata": {
        "colab": {
          "base_uri": "https://localhost:8080/",
          "height": 17
        },
        "id": "TBQqWFF_SVf1",
        "outputId": "187fb2b2-9e1d-43bd-8f13-3b81959625ab"
      },
      "execution_count": 18,
      "outputs": [
        {
          "output_type": "display_data",
          "data": {
            "text/plain": [
              "<IPython.core.display.Javascript object>"
            ],
            "application/javascript": [
              "\n",
              "    async function download(id, filename, size) {\n",
              "      if (!google.colab.kernel.accessAllowed) {\n",
              "        return;\n",
              "      }\n",
              "      const div = document.createElement('div');\n",
              "      const label = document.createElement('label');\n",
              "      label.textContent = `Downloading \"${filename}\": `;\n",
              "      div.appendChild(label);\n",
              "      const progress = document.createElement('progress');\n",
              "      progress.max = size;\n",
              "      div.appendChild(progress);\n",
              "      document.body.appendChild(div);\n",
              "\n",
              "      const buffers = [];\n",
              "      let downloaded = 0;\n",
              "\n",
              "      const channel = await google.colab.kernel.comms.open(id);\n",
              "      // Send a message to notify the kernel that we're ready.\n",
              "      channel.send({})\n",
              "\n",
              "      for await (const message of channel.messages) {\n",
              "        // Send a message to notify the kernel that we're ready.\n",
              "        channel.send({})\n",
              "        if (message.buffers) {\n",
              "          for (const buffer of message.buffers) {\n",
              "            buffers.push(buffer);\n",
              "            downloaded += buffer.byteLength;\n",
              "            progress.value = downloaded;\n",
              "          }\n",
              "        }\n",
              "      }\n",
              "      const blob = new Blob(buffers, {type: 'application/binary'});\n",
              "      const a = document.createElement('a');\n",
              "      a.href = window.URL.createObjectURL(blob);\n",
              "      a.download = filename;\n",
              "      div.appendChild(a);\n",
              "      a.click();\n",
              "      div.remove();\n",
              "    }\n",
              "  "
            ]
          },
          "metadata": {}
        },
        {
          "output_type": "display_data",
          "data": {
            "text/plain": [
              "<IPython.core.display.Javascript object>"
            ],
            "application/javascript": [
              "download(\"download_4fe5cc86-7a73-46ca-acaa-55f3cce7e978\", \"generator_full.pth\", 3301558)"
            ]
          },
          "metadata": {}
        }
      ]
    },
    {
      "cell_type": "code",
      "source": [
        "import torch\n",
        "import torch.nn as nn\n",
        "from torchvision.transforms.functional import to_pil_image\n",
        "from IPython.display import display\n",
        "import matplotlib.pyplot as plt\n",
        "\n",
        "# === Generator class ===\n",
        "class ConditionalGenerator(nn.Module):\n",
        "    def __init__(self, z_dim, num_classes, img_channels=1):\n",
        "        super().__init__()\n",
        "        self.label_emb = nn.Embedding(num_classes, num_classes)\n",
        "        self.net = nn.Sequential(\n",
        "            nn.ConvTranspose2d(z_dim + num_classes, 128, 7, 1, 0),\n",
        "            nn.BatchNorm2d(128),\n",
        "            nn.ReLU(True),\n",
        "            nn.ConvTranspose2d(128, 64, 4, 2, 1),\n",
        "            nn.BatchNorm2d(64),\n",
        "            nn.ReLU(True),\n",
        "            nn.ConvTranspose2d(64, img_channels, 4, 2, 1),\n",
        "            nn.Tanh()\n",
        "        )\n",
        "    def forward(self, z, labels):\n",
        "        label_embedding = self.label_emb(labels)\n",
        "        x = torch.cat([z, label_embedding], dim=1)\n",
        "        x = x.view(x.size(0), -1, 1, 1)\n",
        "        return self.net(x)\n",
        "\n",
        "# === Load Generator ===\n",
        "z_dim = 100\n",
        "device = torch.device('cuda' if torch.cuda.is_available() else 'cpu')\n",
        "\n",
        "G = ConditionalGenerator(z_dim=z_dim, num_classes=10).to(device)\n",
        "G.load_state_dict(torch.load(\"/content/generator.pth\", map_location=device))\n",
        "G.eval()\n",
        "\n",
        "# === Get user input ===\n",
        "digit = int(input(\"Enter a digit (0–9) to generate: \"))\n",
        "if digit < 0 or digit > 9:\n",
        "    raise ValueError(\"Please enter a number between 0 and 9.\")\n",
        "\n",
        "# === Generate ===\n",
        "with torch.no_grad():\n",
        "    z = torch.randn(1, z_dim).to(device)\n",
        "    label = torch.tensor([digit]).to(device)\n",
        "    generated = G(z, label)  # [1, 1, 28, 28]\n",
        "\n",
        "# === Fix the black image: rescale from [-1, 1] to [0, 1] ===\n",
        "generated_rescaled = (generated + 1) / 2  # now values are in [0, 1]\n",
        "\n",
        "# === Display the image ===\n",
        "img = to_pil_image(generated_rescaled.squeeze(0).cpu())  # no need for mode='F' now\n",
        "plt.imshow(img, cmap='gray')\n",
        "plt.title(f\"Generated Digit: {digit}\")\n",
        "plt.axis('off')\n",
        "plt.show()\n"
      ],
      "metadata": {
        "colab": {
          "base_uri": "https://localhost:8080/",
          "height": 446
        },
        "id": "aFgvZ77mTBq-",
        "outputId": "d9124336-e9d3-413c-973f-2418d1c747dc"
      },
      "execution_count": 3,
      "outputs": [
        {
          "name": "stdout",
          "output_type": "stream",
          "text": [
            "Enter a digit (0–9) to generate: 5\n"
          ]
        },
        {
          "output_type": "display_data",
          "data": {
            "text/plain": [
              "<Figure size 640x480 with 1 Axes>"
            ],
            "image/png": "[encoded data removed]"
          },
          "metadata": {}
        }
      ]
    }
  ],
  "metadata": {
    "accelerator": "GPU",
    "colab": {
      "gpuType": "T4",
      "provenance": []
    },
    "kernelspec": {
      "display_name": "Python 3",
      "name": "python3"
    },
    "language_info": {
      "name": "python"
    }
  },
  "nbformat": 4,
  "nbformat_minor": 0
}